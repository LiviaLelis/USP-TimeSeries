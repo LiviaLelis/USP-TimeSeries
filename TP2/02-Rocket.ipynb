{
 "cells": [
  {
   "cell_type": "code",
   "execution_count": null,
   "metadata": {},
   "outputs": [],
   "source": [
    "# Install TSAI for the MINIROCKET\n",
    "# https://github.com/timeseriesAI/tsai\n",
    "%pip install tsai --quiet"
   ]
  },
  {
   "cell_type": "code",
   "execution_count": 5,
   "metadata": {},
   "outputs": [],
   "source": [
    "import polars as pl\n",
    "\n",
    "from sklearn.model_selection import train_test_split"
   ]
  },
  {
   "cell_type": "code",
   "execution_count": 2,
   "metadata": {},
   "outputs": [],
   "source": [
    "SEED = 42"
   ]
  },
  {
   "cell_type": "code",
   "execution_count": 3,
   "metadata": {},
   "outputs": [
    {
     "data": {
      "text/html": [
       "<div><style>\n",
       ".dataframe > thead > tr,\n",
       ".dataframe > tbody > tr {\n",
       "  text-align: right;\n",
       "  white-space: pre-wrap;\n",
       "}\n",
       "</style>\n",
       "<small>shape: (10, 4)</small><table border=\"1\" class=\"dataframe\"><thead><tr><th>record</th><th>fs</th><th>signal</th><th>label</th></tr><tr><td>i64</td><td>i64</td><td>array[f64, 640]</td><td>bool</td></tr></thead><tbody><tr><td>28</td><td>128</td><td>[-0.0204, -0.1071, … -0.204]</td><td>false</td></tr><tr><td>16</td><td>128</td><td>[-0.08398, -0.0988, … 0.34086]</td><td>true</td></tr><tr><td>23</td><td>128</td><td>[-0.00988, 0.01482, … 0.10374]</td><td>true</td></tr><tr><td>121</td><td>128</td><td>[0.60268, 0.26676, … -0.00988]</td><td>false</td></tr><tr><td>23</td><td>128</td><td>[0.40014, 0.32604, … -0.09386]</td><td>false</td></tr><tr><td>122</td><td>128</td><td>[0.20748, 0.1976, … -0.5434]</td><td>true</td></tr><tr><td>103</td><td>128</td><td>[-0.03952, -0.04446, … -0.06916]</td><td>true</td></tr><tr><td>23</td><td>128</td><td>[-0.869441, -1.086801, … -0.17784]</td><td>false</td></tr><tr><td>103</td><td>128</td><td>[0.05928, 0.10374, … -0.01482]</td><td>true</td></tr><tr><td>103</td><td>128</td><td>[0.07904, 0.07904, … -0.09386]</td><td>true</td></tr></tbody></table></div>"
      ],
      "text/plain": [
       "shape: (10, 4)\n",
       "┌────────┬─────┬─────────────────────────────────┬───────┐\n",
       "│ record ┆ fs  ┆ signal                          ┆ label │\n",
       "│ ---    ┆ --- ┆ ---                             ┆ ---   │\n",
       "│ i64    ┆ i64 ┆ array[f64, 640]                 ┆ bool  │\n",
       "╞════════╪═════╪═════════════════════════════════╪═══════╡\n",
       "│ 28     ┆ 128 ┆ [-0.0204, -0.1071, … -0.204]    ┆ false │\n",
       "│ 16     ┆ 128 ┆ [-0.08398, -0.0988, … 0.34086]  ┆ true  │\n",
       "│ 23     ┆ 128 ┆ [-0.00988, 0.01482, … 0.10374]  ┆ true  │\n",
       "│ 121    ┆ 128 ┆ [0.60268, 0.26676, … -0.00988]  ┆ false │\n",
       "│ 23     ┆ 128 ┆ [0.40014, 0.32604, … -0.09386]  ┆ false │\n",
       "│ 122    ┆ 128 ┆ [0.20748, 0.1976, … -0.5434]    ┆ true  │\n",
       "│ 103    ┆ 128 ┆ [-0.03952, -0.04446, … -0.0691… ┆ true  │\n",
       "│ 23     ┆ 128 ┆ [-0.869441, -1.086801, … -0.17… ┆ false │\n",
       "│ 103    ┆ 128 ┆ [0.05928, 0.10374, … -0.01482]  ┆ true  │\n",
       "│ 103    ┆ 128 ┆ [0.07904, 0.07904, … -0.09386]  ┆ true  │\n",
       "└────────┴─────┴─────────────────────────────────┴───────┘"
      ]
     },
     "metadata": {},
     "output_type": "display_data"
    }
   ],
   "source": [
    "balanced_df = pl.read_parquet(\"./data/balanced.pqt.zst\")\n",
    "display(balanced_df.sample(10, seed=SEED))"
   ]
  },
  {
   "cell_type": "code",
   "execution_count": 9,
   "metadata": {},
   "outputs": [
    {
     "name": "stdout",
     "output_type": "stream",
     "text": [
      "Train count: 99920\n",
      "Val count: 12490\n",
      "Test count: 12490\n"
     ]
    }
   ],
   "source": [
    "train_df, test_df = train_test_split(balanced_df, test_size=0.2)\n",
    "val_df, test_df = train_test_split(test_df, test_size=0.5)\n",
    "\n",
    "print(f\"Train count: {train_df.shape[0]}\")\n",
    "print(f\"Val count: {val_df.shape[0]}\")\n",
    "print(f\"Test count: {test_df.shape[0]}\")"
   ]
  },
  {
   "cell_type": "code",
   "execution_count": null,
   "metadata": {},
   "outputs": [],
   "source": []
  }
 ],
 "metadata": {
  "kernelspec": {
   "display_name": "timeseries-tp",
   "language": "python",
   "name": "python3"
  },
  "language_info": {
   "codemirror_mode": {
    "name": "ipython",
    "version": 3
   },
   "file_extension": ".py",
   "mimetype": "text/x-python",
   "name": "python",
   "nbconvert_exporter": "python",
   "pygments_lexer": "ipython3",
   "version": "3.12.7"
  }
 },
 "nbformat": 4,
 "nbformat_minor": 2
}
